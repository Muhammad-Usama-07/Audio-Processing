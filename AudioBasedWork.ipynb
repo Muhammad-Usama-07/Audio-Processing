{
  "cells": [
    {
      "cell_type": "markdown",
      "metadata": {
        "id": "view-in-github",
        "colab_type": "text"
      },
      "source": [
        "<a href=\"https://colab.research.google.com/github/Muhammad-Usama-07/Audio-Processing/blob/main/AudioBasedWork.ipynb\" target=\"_parent\"><img src=\"https://colab.research.google.com/assets/colab-badge.svg\" alt=\"Open In Colab\"/></a>"
      ]
    },
    {
      "cell_type": "markdown",
      "id": "a60ffd0a",
      "metadata": {
        "id": "a60ffd0a"
      },
      "source": [
        "# Libraries"
      ]
    },
    {
      "cell_type": "code",
      "execution_count": null,
      "id": "1828a04b",
      "metadata": {
        "id": "1828a04b"
      },
      "outputs": [],
      "source": [
        "import IPython\n",
        "from scipy.io import wavfile\n",
        "import scipy.signal\n",
        "import numpy as np\n",
        "from glob import glob\n",
        "import matplotlib.pyplot as plt\n",
        "%matplotlib inline"
      ]
    },
    {
      "cell_type": "markdown",
      "source": [
        "# Getting All Voice Data Names"
      ],
      "metadata": {
        "id": "au0rXOUSTNH3"
      },
      "id": "au0rXOUSTNH3"
    },
    {
      "cell_type": "code",
      "source": [
        "Audio_names = []\n",
        "for names in glob('VoiceData/*.wav'):\n",
        "  Audio_names.append(names)\n",
        "  print(names)"
      ],
      "metadata": {
        "id": "iXsFNKwaCpkT",
        "colab": {
          "base_uri": "https://localhost:8080/"
        },
        "outputId": "2e040be9-ed0a-46ce-f19e-f3531671b566"
      },
      "id": "iXsFNKwaCpkT",
      "execution_count": null,
      "outputs": [
        {
          "output_type": "stream",
          "name": "stdout",
          "text": [
            "VoiceData/chunk4.wav\n",
            "VoiceData/chunk1.wav\n",
            "VoiceData/chunk2.wav\n",
            "VoiceData/chunk3.wav\n",
            "VoiceData/chunk5.wav\n"
          ]
        }
      ]
    },
    {
      "cell_type": "markdown",
      "source": [
        "# Play audio and Get Data from audio in different ways"
      ],
      "metadata": {
        "id": "Ypn4zTvgV0lo"
      },
      "id": "Ypn4zTvgV0lo"
    },
    {
      "cell_type": "code",
      "source": [
        "from playsound import playsound\n",
        "playsound(Audio_names[0])"
      ],
      "metadata": {
        "id": "Mb8aut-xWJH4"
      },
      "id": "Mb8aut-xWJH4",
      "execution_count": null,
      "outputs": []
    },
    {
      "cell_type": "code",
      "source": [
        "from pydub import AudioSegment\n",
        "from pydub.playback import play\n",
        "\n",
        "song = AudioSegment.from_wav(Audio_names[0])\n",
        "play(song)"
      ],
      "metadata": {
        "id": "bljcWSGbTJMu"
      },
      "id": "bljcWSGbTJMu",
      "execution_count": null,
      "outputs": []
    },
    {
      "cell_type": "markdown",
      "source": [
        "### Read Data in byte form using (simpleaudio)"
      ],
      "metadata": {
        "id": "S-tOZv6b84yE"
      },
      "id": "S-tOZv6b84yE"
    },
    {
      "cell_type": "code",
      "source": [
        "import simpleaudio as sa\n",
        "\n",
        "wave_obj = sa.WaveObject.from_wave_file(Audio_names[0])\n",
        "# play_obj = wave_obj.play()\n",
        "# play_obj.wait_done()\n",
        "wave_obj.audio_data"
      ],
      "metadata": {
        "id": "UDEWQ9weVD98"
      },
      "id": "UDEWQ9weVD98",
      "execution_count": null,
      "outputs": []
    },
    {
      "cell_type": "code",
      "source": [
        "import winsound\n",
        "winsound.PlaySound(Audio_names[0], winsound.SND_FILENAME)"
      ],
      "metadata": {
        "id": "pypIAaGSXcXZ"
      },
      "id": "pypIAaGSXcXZ",
      "execution_count": null,
      "outputs": []
    },
    {
      "cell_type": "markdown",
      "source": [
        "### Read Data in float form using (soundfile)"
      ],
      "metadata": {
        "id": "Htut9fZY7pfa"
      },
      "id": "Htut9fZY7pfa"
    },
    {
      "cell_type": "code",
      "source": [
        "import sounddevice as sd\n",
        "import soundfile as sf\n",
        "\n",
        "data, fs = sf.read(Audio_names[0], dtype='float32')  \n",
        "sd.play(data, fs)\n",
        "status = sd.wait()"
      ],
      "metadata": {
        "id": "Lv6N7L_5X_MC"
      },
      "id": "Lv6N7L_5X_MC",
      "execution_count": null,
      "outputs": []
    },
    {
      "cell_type": "markdown",
      "source": [
        "### Read Data in integar form using(scipy)"
      ],
      "metadata": {
        "id": "aSuLCXX-7R2i"
      },
      "id": "aSuLCXX-7R2i"
    },
    {
      "cell_type": "code",
      "source": [
        "from scipy.io.wavfile import read\n",
        "from scipy.io.wavfile import write\n",
        "import numpy as np\n",
        "\n",
        "# Extracting rate and data from audio\n",
        "samplerate, data = read('AudioData/audio.wav')\n",
        "data"
      ],
      "metadata": {
        "id": "qm1FCa1T7ZQL"
      },
      "id": "qm1FCa1T7ZQL",
      "execution_count": null,
      "outputs": []
    },
    {
      "cell_type": "markdown",
      "source": [
        "# Get Start and Stop of Audio"
      ],
      "metadata": {
        "id": "JuL_msEaXCJZ"
      },
      "id": "JuL_msEaXCJZ"
    },
    {
      "cell_type": "code",
      "source": [
        "from pydub import AudioSegment, silence\n",
        "\n",
        "myaudio = AudioSegment.from_wav(\"SilanceTest/audio.wav\")\n",
        "\n",
        "# get all starts and stops of the audio in silence varaible \n",
        "silence = silence.detect_silence(myaudio, min_silence_len=100, silence_thresh=-16,)\n",
        "print(silence)"
      ],
      "metadata": {
        "id": "a5YEbL-0XHwE"
      },
      "id": "a5YEbL-0XHwE",
      "execution_count": null,
      "outputs": []
    },
    {
      "cell_type": "markdown",
      "source": [
        "# Take bytes from audio"
      ],
      "metadata": {
        "id": "7k7XJzRGH3PI"
      },
      "id": "7k7XJzRGH3PI"
    },
    {
      "cell_type": "code",
      "source": [
        "import simpleaudio as sa\n",
        "\n",
        "wave_obj = sa.WaveObject.from_wave_file('AudioData/audio.wav')\n",
        "\n",
        "# get bytes without header\n",
        "aud_data = wave_obj.audio_data\n",
        "aud_data"
      ],
      "metadata": {
        "id": "xGJXBqe0IBzY"
      },
      "id": "xGJXBqe0IBzY",
      "execution_count": null,
      "outputs": []
    },
    {
      "cell_type": "code",
      "source": [
        "# ('good-morning.mp3')\n",
        "import wave\n",
        "\n",
        "# Create audio file wave object\n",
        "good_morning = wave.open('good-morning.wav', 'r')\n",
        "\n",
        "# Read all frames from wave object \n",
        "signal_gm = good_morning.readframes(-1)\n",
        "\n",
        "# View first 10\n",
        "print(signal_gm[:10])"
      ],
      "metadata": {
        "id": "CrRCLD6K7xem",
        "outputId": "aea7fda6-1dbc-467e-c957-4a811ea4a6c1",
        "colab": {
          "base_uri": "https://localhost:8080/"
        }
      },
      "id": "CrRCLD6K7xem",
      "execution_count": 3,
      "outputs": [
        {
          "output_type": "stream",
          "name": "stdout",
          "text": [
            "b'\\xd3\\xff\\xa6\\xff\\x95\\xff\\xa0\\xff\\xa5\\xff'\n"
          ]
        }
      ]
    },
    {
      "cell_type": "markdown",
      "source": [
        "# Convert Bytes to audio"
      ],
      "metadata": {
        "id": "sK1mC9G4IYWZ"
      },
      "id": "sK1mC9G4IYWZ"
    },
    {
      "cell_type": "code",
      "source": [
        "from pydub import AudioSegment\n",
        "\n",
        "# With giving header and bytes\n",
        "import simpleaudio as sa\n",
        "\n",
        "wave_obj = sa.WaveObject.from_wave_file('AudioData/audio.wav')\n",
        "\n",
        "aud_data = wave_obj.audio_data          # get bytes\n",
        "sample_width=wave_obj.bytes_per_sample  # get sample width\n",
        "frame_rate=wave_obj.sample_rate         # get sample rate\n",
        "channels=wave_obj.num_channels          # get channel\n",
        "\n",
        "myaudio = AudioSegment(aud_data, sample_width=wave_obj.bytes_per_sample, frame_rate=wave_obj.sample_rate, channels=wave_obj.num_channels)\n",
        "myaudio"
      ],
      "metadata": {
        "id": "AGGydR5kIbY4"
      },
      "id": "AGGydR5kIbY4",
      "execution_count": null,
      "outputs": []
    },
    {
      "cell_type": "markdown",
      "source": [
        "# Save silence removed wav file"
      ],
      "metadata": {
        "id": "vQ3B37WcEp_x"
      },
      "id": "vQ3B37WcEp_x"
    },
    {
      "cell_type": "code",
      "source": [
        "import io\n",
        "from pydub import AudioSegment, silence\n",
        "from pydub.silence import split_on_silence\n",
        "import simpleaudio as sa\n",
        "\n",
        "wave_obj = sa.WaveObject.from_wave_file('SilanceTest/10ARI8-1635618351.80791-in-1.wav')\n",
        "\n",
        "aud_data = wave_obj.audio_data          # get bytes\n",
        "sample_width=wave_obj.bytes_per_sample  # get sample width\n",
        "frame_rate=wave_obj.sample_rate         # get sample rate\n",
        "channels=wave_obj.num_channels          # get channel\n",
        "\n",
        "myaudio = AudioSegment(aud_data, sample_width=wave_obj.bytes_per_sample, frame_rate=wave_obj.sample_rate, channels=wave_obj.num_channels)\n",
        "\n",
        "# spliting audio files\n",
        "audio_chunks = split_on_silence(myaudio, min_silence_len=500, silence_thresh=-40 )\n",
        "\n",
        "#loop is used to iterate over the output list\n",
        "chk = 0\n",
        "\n",
        "for i, chunk in enumerate(audio_chunks):\n",
        "    chk+=chunk\n",
        "chk.export('silenceRemoved.wav', format=\"wav\")\n"
      ],
      "metadata": {
        "id": "Ht36exNGEqNd"
      },
      "id": "Ht36exNGEqNd",
      "execution_count": null,
      "outputs": []
    }
  ],
  "metadata": {
    "kernelspec": {
      "display_name": "Python 3 (ipykernel)",
      "language": "python",
      "name": "python3"
    },
    "language_info": {
      "codemirror_mode": {
        "name": "ipython",
        "version": 3
      },
      "file_extension": ".py",
      "mimetype": "text/x-python",
      "name": "python",
      "nbconvert_exporter": "python",
      "pygments_lexer": "ipython3",
      "version": "3.9.7"
    },
    "colab": {
      "name": "AudioBasedWork.ipynb",
      "provenance": [],
      "include_colab_link": true
    }
  },
  "nbformat": 4,
  "nbformat_minor": 5
}