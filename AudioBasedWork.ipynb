{
  "cells": [
    {
      "cell_type": "markdown",
      "metadata": {
        "id": "view-in-github",
        "colab_type": "text"
      },
      "source": [
        "<a href=\"https://colab.research.google.com/github/Muhammad-Usama-07/Audio-Processing/blob/main/AudioBasedWork.ipynb\" target=\"_parent\"><img src=\"https://colab.research.google.com/assets/colab-badge.svg\" alt=\"Open In Colab\"/></a>"
      ]
    },
    {
      "cell_type": "markdown",
      "id": "a60ffd0a",
      "metadata": {
        "id": "a60ffd0a"
      },
      "source": [
        "# Libraries"
      ]
    },
    {
      "cell_type": "code",
      "execution_count": null,
      "id": "1828a04b",
      "metadata": {
        "id": "1828a04b"
      },
      "outputs": [],
      "source": [
        "import IPython\n",
        "from scipy.io import wavfile\n",
        "import scipy.signal\n",
        "import numpy as np\n",
        "from glob import glob\n",
        "import matplotlib.pyplot as plt\n",
        "%matplotlib inline"
      ]
    },
    {
      "cell_type": "markdown",
      "source": [
        "# Getting All Voice Data Names"
      ],
      "metadata": {
        "id": "au0rXOUSTNH3"
      },
      "id": "au0rXOUSTNH3"
    },
    {
      "cell_type": "code",
      "source": [
        "Audio_names = []\n",
        "for names in glob('VoiceData/*.wav'):\n",
        "  Audio_names.append(names)\n",
        "  print(names)"
      ],
      "metadata": {
        "id": "iXsFNKwaCpkT",
        "colab": {
          "base_uri": "https://localhost:8080/"
        },
        "outputId": "2e040be9-ed0a-46ce-f19e-f3531671b566"
      },
      "id": "iXsFNKwaCpkT",
      "execution_count": null,
      "outputs": [
        {
          "output_type": "stream",
          "name": "stdout",
          "text": [
            "VoiceData/chunk4.wav\n",
            "VoiceData/chunk1.wav\n",
            "VoiceData/chunk2.wav\n",
            "VoiceData/chunk3.wav\n",
            "VoiceData/chunk5.wav\n"
          ]
        }
      ]
    },
    {
      "cell_type": "markdown",
      "source": [
        "# Play voice in different ways"
      ],
      "metadata": {
        "id": "Ypn4zTvgV0lo"
      },
      "id": "Ypn4zTvgV0lo"
    },
    {
      "cell_type": "code",
      "source": [
        "from playsound import playsound\n",
        "playsound(Audio_names[0])"
      ],
      "metadata": {
        "id": "Mb8aut-xWJH4"
      },
      "id": "Mb8aut-xWJH4",
      "execution_count": null,
      "outputs": []
    },
    {
      "cell_type": "code",
      "source": [
        "from pydub import AudioSegment\n",
        "from pydub.playback import play\n",
        "\n",
        "song = AudioSegment.from_wav(Audio_names[0])\n",
        "play(song)"
      ],
      "metadata": {
        "id": "bljcWSGbTJMu"
      },
      "id": "bljcWSGbTJMu",
      "execution_count": null,
      "outputs": []
    },
    {
      "cell_type": "code",
      "source": [
        "import simpleaudio as sa\n",
        "\n",
        "wave_obj = sa.WaveObject.from_wave_file(Audio_names[0])\n",
        "play_obj = wave_obj.play()\n",
        "play_obj.wait_done()"
      ],
      "metadata": {
        "id": "UDEWQ9weVD98"
      },
      "id": "UDEWQ9weVD98",
      "execution_count": null,
      "outputs": []
    },
    {
      "cell_type": "code",
      "source": [
        "import winsound\n",
        "winsound.PlaySound(Audio_names[0], winsound.SND_FILENAME)"
      ],
      "metadata": {
        "id": "pypIAaGSXcXZ"
      },
      "id": "pypIAaGSXcXZ",
      "execution_count": null,
      "outputs": []
    },
    {
      "cell_type": "code",
      "source": [
        "import sounddevice as sd\n",
        "import soundfile as sf\n",
        "\n",
        "data, fs = sf.read(Audio_names[0], dtype='float32')  \n",
        "sd.play(data, fs)\n",
        "status = sd.wait()"
      ],
      "metadata": {
        "id": "Lv6N7L_5X_MC"
      },
      "id": "Lv6N7L_5X_MC",
      "execution_count": null,
      "outputs": []
    },
    {
      "cell_type": "markdown",
      "source": [
        "# Speech to Text (using SpeechRecognition Library)"
      ],
      "metadata": {
        "id": "I3m5T6IH69B8"
      },
      "id": "I3m5T6IH69B8"
    },
    {
      "cell_type": "markdown",
      "source": [
        "### Take microphone input and generate text using google API. "
      ],
      "metadata": {
        "id": "UCPCwnhGVNjx"
      },
      "id": "UCPCwnhGVNjx"
    },
    {
      "cell_type": "code",
      "source": [
        "import speech_recognition as sr\n",
        "recognizer = sr.Recognizer()\n",
        "with sr.Microphone() as source:\n",
        "    print('say something..')\n",
        "    audio = recognizer.listen(source)\n",
        "    try:\n",
        "        text = recognizerr.recognize_google(audio)\n",
        "        print(f'you said {text}')\n",
        "    except:\n",
        "        print(\"sorry could'nt recognize your voice\")"
      ],
      "metadata": {
        "id": "p6li4E1AUpbx"
      },
      "id": "p6li4E1AUpbx",
      "execution_count": null,
      "outputs": []
    }
  ],
  "metadata": {
    "kernelspec": {
      "display_name": "Python 3 (ipykernel)",
      "language": "python",
      "name": "python3"
    },
    "language_info": {
      "codemirror_mode": {
        "name": "ipython",
        "version": 3
      },
      "file_extension": ".py",
      "mimetype": "text/x-python",
      "name": "python",
      "nbconvert_exporter": "python",
      "pygments_lexer": "ipython3",
      "version": "3.9.7"
    },
    "colab": {
      "name": "AudioBasedWork.ipynb",
      "provenance": [],
      "toc_visible": true,
      "include_colab_link": true
    }
  },
  "nbformat": 4,
  "nbformat_minor": 5
}