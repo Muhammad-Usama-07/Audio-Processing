{
  "cells": [
    {
      "cell_type": "markdown",
      "id": "a60ffd0a",
      "metadata": {
        "id": "a60ffd0a"
      },
      "source": [
        "# Libraries"
      ]
    },
    {
      "cell_type": "code",
      "execution_count": 4,
      "id": "1828a04b",
      "metadata": {
        "id": "1828a04b"
      },
      "outputs": [],
      "source": [
        "import IPython\n",
        "from scipy.io import wavfile\n",
        "import scipy.signal\n",
        "import numpy as np\n",
        "from glob import glob\n",
        "import matplotlib.pyplot as plt\n",
        "%matplotlib inline"
      ]
    },
    {
      "cell_type": "markdown",
      "source": [
        "# Getting All Voice Data Names"
      ],
      "metadata": {
        "id": "au0rXOUSTNH3"
      },
      "id": "au0rXOUSTNH3"
    },
    {
      "cell_type": "code",
      "source": [
        "for audio_names in glob('VoiceData/*.wav'):\n",
        "  print(audio_names)"
      ],
      "metadata": {
        "id": "iXsFNKwaCpkT",
        "outputId": "33461c2e-2336-46ab-b6e4-3385470fc540",
        "colab": {
          "base_uri": "https://localhost:8080/"
        }
      },
      "id": "iXsFNKwaCpkT",
      "execution_count": 5,
      "outputs": [
        {
          "output_type": "stream",
          "name": "stdout",
          "text": [
            "VoiceData/chunk4.wav\n",
            "VoiceData/chunk1.wav\n",
            "VoiceData/chunk2.wav\n",
            "VoiceData/chunk3.wav\n",
            "VoiceData/chunk5.wav\n"
          ]
        }
      ]
    },
    {
      "cell_type": "code",
      "source": [
        ""
      ],
      "metadata": {
        "id": "bljcWSGbTJMu"
      },
      "id": "bljcWSGbTJMu",
      "execution_count": null,
      "outputs": []
    }
  ],
  "metadata": {
    "kernelspec": {
      "display_name": "Python 3 (ipykernel)",
      "language": "python",
      "name": "python3"
    },
    "language_info": {
      "codemirror_mode": {
        "name": "ipython",
        "version": 3
      },
      "file_extension": ".py",
      "mimetype": "text/x-python",
      "name": "python",
      "nbconvert_exporter": "python",
      "pygments_lexer": "ipython3",
      "version": "3.9.7"
    },
    "colab": {
      "name": "AudioBasedWork.ipynb",
      "provenance": [],
      "toc_visible": true
    }
  },
  "nbformat": 4,
  "nbformat_minor": 5
}