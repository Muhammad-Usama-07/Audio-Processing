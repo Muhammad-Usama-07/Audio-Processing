{
  "cells": [
    {
      "cell_type": "markdown",
      "source": [
        "# Necessary Libraries"
      ],
      "metadata": {
        "id": "UL1mshDb4DOo"
      },
      "id": "UL1mshDb4DOo"
    },
    {
      "cell_type": "code",
      "execution_count": 2,
      "id": "b928af34",
      "metadata": {
        "id": "b928af34"
      },
      "outputs": [],
      "source": [
        "import os\n",
        "import wave\n",
        "import time\n",
        "import pickle\n",
        "import pyaudio\n",
        "import warnings\n",
        "from glob import glob\n",
        "import numpy as np\n",
        "from sklearn import preprocessing\n",
        "from scipy.io.wavfile import read\n",
        "import python_speech_features as mfcc\n",
        "from sklearn.mixture import GaussianMixture\n",
        "warnings.filterwarnings(\"ignore\")"
      ]
    },
    {
      "cell_type": "markdown",
      "source": [
        "# New Section"
      ],
      "metadata": {
        "id": "rgWw6rvO4bOa"
      },
      "id": "rgWw6rvO4bOa"
    },
    {
      "cell_type": "code",
      "execution_count": null,
      "id": "466ca8d1",
      "metadata": {
        "id": "466ca8d1"
      },
      "outputs": [],
      "source": [
        ""
      ]
    }
  ],
  "metadata": {
    "kernelspec": {
      "display_name": "Python 3 (ipykernel)",
      "language": "python",
      "name": "python3"
    },
    "language_info": {
      "codemirror_mode": {
        "name": "ipython",
        "version": 3
      },
      "file_extension": ".py",
      "mimetype": "text/x-python",
      "name": "python",
      "nbconvert_exporter": "python",
      "pygments_lexer": "ipython3",
      "version": "3.9.7"
    },
    "colab": {
      "name": "VoiceIdentificationSystem-Work.ipynb",
      "provenance": []
    },
    "accelerator": "GPU"
  },
  "nbformat": 4,
  "nbformat_minor": 5
}