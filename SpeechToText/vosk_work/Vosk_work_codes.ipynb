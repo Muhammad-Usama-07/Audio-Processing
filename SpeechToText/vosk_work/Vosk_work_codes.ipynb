{
  "nbformat": 4,
  "nbformat_minor": 0,
  "metadata": {
    "colab": {
      "provenance": []
    },
    "kernelspec": {
      "name": "python3",
      "display_name": "Python 3"
    },
    "language_info": {
      "name": "python"
    }
  },
  "cells": [
    {
      "cell_type": "code",
      "execution_count": 1,
      "metadata": {
        "colab": {
          "base_uri": "https://localhost:8080/"
        },
        "id": "VQZjRvqP3iNO",
        "outputId": "6bbfe5df-474c-48d0-dd27-e45bc4c6b317"
      },
      "outputs": [
        {
          "output_type": "stream",
          "name": "stdout",
          "text": [
            "vosk work\n"
          ]
        }
      ],
      "source": [
        "print('vosk work')"
      ]
    },
    {
      "cell_type": "code",
      "source": [],
      "metadata": {
        "id": "ZV-0_Yza3p4j"
      },
      "execution_count": null,
      "outputs": []
    }
  ]
}