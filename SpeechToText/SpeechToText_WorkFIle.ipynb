{
  "cells": [
    {
      "cell_type": "markdown",
      "metadata": {
        "id": "view-in-github",
        "colab_type": "text"
      },
      "source": [
        "<a href=\"https://colab.research.google.com/github/Muhammad-Usama-07/Audio-Processing/blob/main/SpeechToText/SpeechToText_WorkFIle.ipynb\" target=\"_parent\"><img src=\"https://colab.research.google.com/assets/colab-badge.svg\" alt=\"Open In Colab\"/></a>"
      ]
    },
    {
      "cell_type": "markdown",
      "source": [
        "# Transcribing with Nemo"
      ],
      "metadata": {
        "id": "dX1sG7L8epBU"
      },
      "id": "dX1sG7L8epBU"
    },
    {
      "cell_type": "code",
      "execution_count": null,
      "id": "b549e8b6",
      "metadata": {
        "id": "b549e8b6"
      },
      "outputs": [],
      "source": [
        "import nemo.collections.asr as nemo_asr"
      ]
    },
    {
      "cell_type": "code",
      "source": [
        "# Available nemo models\n",
        "nemo_default_models = [mod.pretrained_model_name for mod in nemo_asr.models.EncDecCTCModel.list_available_models()]\n",
        "nemo_default_models"
      ],
      "metadata": {
        "id": "YqRInIdNe0jv"
      },
      "id": "YqRInIdNe0jv",
      "execution_count": null,
      "outputs": []
    },
    {
      "cell_type": "code",
      "source": [
        "# Transcribing audio with model QuartzNet15x5Base-En\n",
        "audio_path = 'audios/audio1.wav'\n",
        "nemo_model = nemo_asr.models.EncDecCTCModel.from_pretrained(model_name=\"QuartzNet15x5Base-En\")\n",
        "nemo_model.transcribe([audio_path])"
      ],
      "metadata": {
        "id": "yDKi04prffSV"
      },
      "id": "yDKi04prffSV",
      "execution_count": null,
      "outputs": []
    },
    {
      "cell_type": "markdown",
      "source": [
        "# Transcribing with SpeechRecognition Library"
      ],
      "metadata": {
        "id": "fZgc2zI1zf0r"
      },
      "id": "fZgc2zI1zf0r"
    },
    {
      "cell_type": "markdown",
      "source": [
        "### Take microphone input and generate text using google API."
      ],
      "metadata": {
        "id": "JJYF-IIWznFz"
      },
      "id": "JJYF-IIWznFz"
    },
    {
      "cell_type": "code",
      "source": [
        "import speech_recognition as sr\n",
        "recognizer = sr.Recognizer()\n",
        "with sr.Microphone() as source:\n",
        "    print('say something..')\n",
        "    audio = recognizer.listen(source)\n",
        "    try:\n",
        "        text = recognizerr.recognize_google(audio)\n",
        "        print(f'you said {text}')\n",
        "    except:\n",
        "        print(\"sorry could'nt recognize your voice\")"
      ],
      "metadata": {
        "id": "_5F3NJ0hfgjz"
      },
      "id": "_5F3NJ0hfgjz",
      "execution_count": null,
      "outputs": []
    }
  ],
  "metadata": {
    "kernelspec": {
      "display_name": "Python 3 (ipykernel)",
      "language": "python",
      "name": "python3"
    },
    "language_info": {
      "codemirror_mode": {
        "name": "ipython",
        "version": 3
      },
      "file_extension": ".py",
      "mimetype": "text/x-python",
      "name": "python",
      "nbconvert_exporter": "python",
      "pygments_lexer": "ipython3",
      "version": "3.7.0"
    },
    "colab": {
      "provenance": [],
      "toc_visible": true,
      "include_colab_link": true
    }
  },
  "nbformat": 4,
  "nbformat_minor": 5
}