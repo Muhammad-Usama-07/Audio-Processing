{
 "cells": [
  {
   "cell_type": "code",
   "execution_count": 1,
   "id": "9a78bafd",
   "metadata": {},
   "outputs": [
    {
     "name": "stdout",
     "output_type": "stream",
     "text": [
      "speech to text work file\n"
     ]
    }
   ],
   "source": [
    "print('speech to text work file')"
   ]
  },
  {
   "cell_type": "code",
   "execution_count": null,
   "id": "b549e8b6",
   "metadata": {},
   "outputs": [],
   "source": []
  }
 ],
 "metadata": {
  "kernelspec": {
   "display_name": "Python 3 (ipykernel)",
   "language": "python",
   "name": "python3"
  },
  "language_info": {
   "codemirror_mode": {
    "name": "ipython",
    "version": 3
   },
   "file_extension": ".py",
   "mimetype": "text/x-python",
   "name": "python",
   "nbconvert_exporter": "python",
   "pygments_lexer": "ipython3",
   "version": "3.7.0"
  }
 },
 "nbformat": 4,
 "nbformat_minor": 5
}
